{
 "cells": [
  {
   "cell_type": "code",
   "execution_count": 1,
   "id": "c573a2ed",
   "metadata": {},
   "outputs": [],
   "source": [
    "variables = [\n",
    "    'A-Alimentary tract and metabolism',\n",
    "    'A02B-Drugs for peptic ulcer and gastro-oesophageal reflux diseases (GORD)',\n",
    "    'A10-Drugs used in diabetes',\n",
    "    'B-Blood and blood forming organs',\n",
    "    'C-Cardiovascular system',\n",
    "    'C01A-Cardiac glycosides',\n",
    "    'C01B-Antiarrhythmics, Class I and III',\n",
    "    'C02-Antihypertensives',\n",
    "    'C03-Diuretics',\n",
    "    'C07-Beta blocking agents',\n",
    "    'C08-Calcium channel blockers',\n",
    "    'C09-Agents acting on the Renin-Angiotensin system',\n",
    "    'C10-Lipid modifying agents',\n",
    "    'G-Genito urinary system and sex hormones',\n",
    "    'G03-Sex hormones and modulators of the genital system',\n",
    "    'H-Systemic hormonal preparations, excluding sex hormones and insulins',\n",
    "    'J-Antiinfectives for systemic use',\n",
    "    'J01-Antibacterials for systemic use',\n",
    "    'M-Musculo-skeletal system',\n",
    "    'M01A-Antiinflammatory and antirheumatic products non-steroids',\n",
    "    'N-Nervous system',\n",
    "    'N02-Analgesics',\n",
    "    'N05B-Anxiolytics',\n",
    "    'N05C-Hypnotics and sedatives',\n",
    "    'N06A-Antidepressants',\n",
    "    'R-Respiratory system',\n",
    "    'R03-Drugs for obstructive airway diseases'\n",
    "]"
   ]
  },
  {
   "cell_type": "code",
   "execution_count": 4,
   "id": "7232b83c",
   "metadata": {},
   "outputs": [],
   "source": [
    "import pandas as pd\n",
    "import numpy as np\n",
    "import matplotlib.pyplot as plt\n",
    "from sklearn.linear_model import LinearRegression\n",
    "from sklearn.preprocessing import PolynomialFeatures\n",
    "\n",
    "# # Load the dataset\n",
    "def predict(variable, country):\n",
    "    data = pd.read_csv('processed.csv')\n",
    "\n",
    "    df = data.loc[(data['Variable'] == variable) & (data['Country'] == country )]\n",
    "    \n",
    "    # Prepare the data\n",
    "    X = df['Year'].values.reshape(-1, 1)\n",
    "    y = df['Value'].values.reshape(-1, 1)\n",
    "\n",
    "    # Create polynomial features\n",
    "    poly = PolynomialFeatures(degree=2)\n",
    "    X_poly = poly.fit_transform(X)\n",
    "\n",
    "    # Fit the polynomial regression model\n",
    "    model = LinearRegression()\n",
    "    model.fit(X_poly, y)\n",
    "\n",
    "    # Predict the sales for next year\n",
    "    next_year = np.array([[2021]])\n",
    "    next_year_poly = poly.transform(next_year)\n",
    "    next_year_sales = model.predict(next_year_poly)[0][0]\n",
    "    print(f\"Predicted sales for next year: {next_year_sales}\")\n",
    "\n",
    "    # Visualize the data and the best fit line\n",
    "    plt.scatter(X, y, color='blue')\n",
    "    plt.plot(X, model.predict(X_poly), color='red')\n",
    "    plt.xlabel('Year')\n",
    "    plt.ylabel('Sales')\n",
    "    plt.title('Sales over Time')\n",
    "    plt.show()\n",
    "    \n",
    "def get_countrys(variable):\n",
    "    new_data = pd.read_csv(\"processed.csv\")\n",
    "    cou = {}\n",
    "    for i in variables:\n",
    "        df = new_data.loc[new_data['Variable'] == i]\n",
    "        cou[i] = df['Country'].unique()\n",
    "    return list(cou[variable])"
   ]
  },
  {
   "cell_type": "code",
   "execution_count": 5,
   "id": "a70fb7cc",
   "metadata": {},
   "outputs": [
    {
     "name": "stdout",
     "output_type": "stream",
     "text": [
      "Predicted sales for next year: 296.5368131901487\n"
     ]
    },
    {
     "data": {
      "image/png": "[encoded data removed]",
      "text/plain": [
       "<Figure size 432x288 with 1 Axes>"
      ]
     },
     "metadata": {
      "needs_background": "light"
     },
     "output_type": "display_data"
    },
    {
     "data": {
      "text/plain": [
       "['Australia',\n",
       " 'Austria',\n",
       " 'Belgium',\n",
       " 'Canada',\n",
       " 'Czech Republic',\n",
       " 'Denmark',\n",
       " 'Finland',\n",
       " 'France',\n",
       " 'Germany',\n",
       " 'Greece',\n",
       " 'Hungary',\n",
       " 'Iceland',\n",
       " 'Italy',\n",
       " 'Korea',\n",
       " 'Luxembourg',\n",
       " 'Netherlands',\n",
       " 'Norway',\n",
       " 'Portugal',\n",
       " 'Slovak Republic',\n",
       " 'Spain',\n",
       " 'Sweden',\n",
       " 'Türkiye',\n",
       " 'United Kingdom',\n",
       " 'Chile',\n",
       " 'Estonia',\n",
       " 'Israel',\n",
       " 'Slovenia',\n",
       " 'Latvia',\n",
       " 'Lithuania']"
      ]
     },
     "execution_count": 5,
     "metadata": {},
     "output_type": "execute_result"
    }
   ],
   "source": [
    "data = pd.read_csv('processed.csv')\n",
    "country = 'Spain'\n",
    "var = 'A-Alimentary tract and metabolism'\n",
    "df = data.loc[(data['Variable'] == var)]\n",
    "df['Country'].unique()\n",
    "predict(var, country)\n",
    "get_countrys(var)"
   ]
  },
  {
   "cell_type": "code",
   "execution_count": null,
   "id": "aaeb75bf",
   "metadata": {},
   "outputs": [],
   "source": []
  }
 ],
 "metadata": {
  "kernelspec": {
   "display_name": "Python 3 (ipykernel)",
   "language": "python",
   "name": "python3"
  },
  "language_info": {
   "codemirror_mode": {
    "name": "ipython",
    "version": 3
   },
   "file_extension": ".py",
   "mimetype": "text/x-python",
   "name": "python",
   "nbconvert_exporter": "python",
   "pygments_lexer": "ipython3",
   "version": "3.9.12"
  }
 },
 "nbformat": 4,
 "nbformat_minor": 5
}
