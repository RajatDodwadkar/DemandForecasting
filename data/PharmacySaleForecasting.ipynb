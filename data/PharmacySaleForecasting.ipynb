{
 "cells": [
  {
   "cell_type": "code",
   "execution_count": 1,
   "id": "bf0ca039",
   "metadata": {},
   "outputs": [],
   "source": [
    "import numpy as np\n",
    "import pandas as pd\n",
    "import matplotlib.pyplot as plt"
   ]
  },
  {
   "cell_type": "code",
   "execution_count": 2,
   "id": "796a3859",
   "metadata": {},
   "outputs": [],
   "source": [
    "df = pd.read_csv('medicine.csv')"
   ]
  },
  {
   "cell_type": "code",
   "execution_count": 3,
   "id": "12981f3c",
   "metadata": {},
   "outputs": [
    {
     "data": {
      "text/html": [
       "<div>\n",
       "<style scoped>\n",
       "    .dataframe tbody tr th:only-of-type {\n",
       "        vertical-align: middle;\n",
       "    }\n",
       "\n",
       "    .dataframe tbody tr th {\n",
       "        vertical-align: top;\n",
       "    }\n",
       "\n",
       "    .dataframe thead th {\n",
       "        text-align: right;\n",
       "    }\n",
       "</style>\n",
       "<table border=\"1\" class=\"dataframe\">\n",
       "  <thead>\n",
       "    <tr style=\"text-align: right;\">\n",
       "      <th></th>\n",
       "      <th>VAR</th>\n",
       "      <th>Variable</th>\n",
       "      <th>UNIT</th>\n",
       "      <th>Measure</th>\n",
       "      <th>COU</th>\n",
       "      <th>Country</th>\n",
       "      <th>YEA</th>\n",
       "      <th>Year</th>\n",
       "      <th>Value</th>\n",
       "      <th>Flag Codes</th>\n",
       "      <th>Flags</th>\n",
       "    </tr>\n",
       "  </thead>\n",
       "  <tbody>\n",
       "    <tr>\n",
       "      <th>0</th>\n",
       "      <td>PHARALIM</td>\n",
       "      <td>A-Alimentary tract and metabolism</td>\n",
       "      <td>NBPYEANB</td>\n",
       "      <td>Defined daily dosage per 1 000 inhabitants per...</td>\n",
       "      <td>AUS</td>\n",
       "      <td>Australia</td>\n",
       "      <td>2010</td>\n",
       "      <td>2010</td>\n",
       "      <td>145.8</td>\n",
       "      <td>D</td>\n",
       "      <td>Difference in methodology</td>\n",
       "    </tr>\n",
       "    <tr>\n",
       "      <th>1</th>\n",
       "      <td>PHARALIM</td>\n",
       "      <td>A-Alimentary tract and metabolism</td>\n",
       "      <td>NBPYEANB</td>\n",
       "      <td>Defined daily dosage per 1 000 inhabitants per...</td>\n",
       "      <td>AUS</td>\n",
       "      <td>Australia</td>\n",
       "      <td>2011</td>\n",
       "      <td>2011</td>\n",
       "      <td>151.5</td>\n",
       "      <td>D</td>\n",
       "      <td>Difference in methodology</td>\n",
       "    </tr>\n",
       "    <tr>\n",
       "      <th>2</th>\n",
       "      <td>PHARALIM</td>\n",
       "      <td>A-Alimentary tract and metabolism</td>\n",
       "      <td>NBPYEANB</td>\n",
       "      <td>Defined daily dosage per 1 000 inhabitants per...</td>\n",
       "      <td>AUS</td>\n",
       "      <td>Australia</td>\n",
       "      <td>2012</td>\n",
       "      <td>2012</td>\n",
       "      <td>153.5</td>\n",
       "      <td>D</td>\n",
       "      <td>Difference in methodology</td>\n",
       "    </tr>\n",
       "    <tr>\n",
       "      <th>3</th>\n",
       "      <td>PHARALIM</td>\n",
       "      <td>A-Alimentary tract and metabolism</td>\n",
       "      <td>NBPYEANB</td>\n",
       "      <td>Defined daily dosage per 1 000 inhabitants per...</td>\n",
       "      <td>AUS</td>\n",
       "      <td>Australia</td>\n",
       "      <td>2013</td>\n",
       "      <td>2013</td>\n",
       "      <td>150.0</td>\n",
       "      <td>B; D</td>\n",
       "      <td>Break; Difference in methodology</td>\n",
       "    </tr>\n",
       "    <tr>\n",
       "      <th>4</th>\n",
       "      <td>PHARALIM</td>\n",
       "      <td>A-Alimentary tract and metabolism</td>\n",
       "      <td>NBPYEANB</td>\n",
       "      <td>Defined daily dosage per 1 000 inhabitants per...</td>\n",
       "      <td>AUS</td>\n",
       "      <td>Australia</td>\n",
       "      <td>2014</td>\n",
       "      <td>2014</td>\n",
       "      <td>151.9</td>\n",
       "      <td>D</td>\n",
       "      <td>Difference in methodology</td>\n",
       "    </tr>\n",
       "  </tbody>\n",
       "</table>\n",
       "</div>"
      ],
      "text/plain": [
       "        VAR                           Variable      UNIT  \\\n",
       "0  PHARALIM  A-Alimentary tract and metabolism  NBPYEANB   \n",
       "1  PHARALIM  A-Alimentary tract and metabolism  NBPYEANB   \n",
       "2  PHARALIM  A-Alimentary tract and metabolism  NBPYEANB   \n",
       "3  PHARALIM  A-Alimentary tract and metabolism  NBPYEANB   \n",
       "4  PHARALIM  A-Alimentary tract and metabolism  NBPYEANB   \n",
       "\n",
       "                                             Measure  COU    Country   YEA  \\\n",
       "0  Defined daily dosage per 1 000 inhabitants per...  AUS  Australia  2010   \n",
       "1  Defined daily dosage per 1 000 inhabitants per...  AUS  Australia  2011   \n",
       "2  Defined daily dosage per 1 000 inhabitants per...  AUS  Australia  2012   \n",
       "3  Defined daily dosage per 1 000 inhabitants per...  AUS  Australia  2013   \n",
       "4  Defined daily dosage per 1 000 inhabitants per...  AUS  Australia  2014   \n",
       "\n",
       "   Year  Value Flag Codes                             Flags  \n",
       "0  2010  145.8          D         Difference in methodology  \n",
       "1  2011  151.5          D         Difference in methodology  \n",
       "2  2012  153.5          D         Difference in methodology  \n",
       "3  2013  150.0       B; D  Break; Difference in methodology  \n",
       "4  2014  151.9          D         Difference in methodology  "
      ]
     },
     "execution_count": 3,
     "metadata": {},
     "output_type": "execute_result"
    }
   ],
   "source": [
    "df.head()"
   ]
  },
  {
   "cell_type": "code",
   "execution_count": 4,
   "id": "3fbdbe3c",
   "metadata": {},
   "outputs": [
    {
     "data": {
      "text/html": [
       "<div>\n",
       "<style scoped>\n",
       "    .dataframe tbody tr th:only-of-type {\n",
       "        vertical-align: middle;\n",
       "    }\n",
       "\n",
       "    .dataframe tbody tr th {\n",
       "        vertical-align: top;\n",
       "    }\n",
       "\n",
       "    .dataframe thead th {\n",
       "        text-align: right;\n",
       "    }\n",
       "</style>\n",
       "<table border=\"1\" class=\"dataframe\">\n",
       "  <thead>\n",
       "    <tr style=\"text-align: right;\">\n",
       "      <th></th>\n",
       "      <th>Variable</th>\n",
       "      <th>Country</th>\n",
       "      <th>Year</th>\n",
       "      <th>Value</th>\n",
       "    </tr>\n",
       "  </thead>\n",
       "  <tbody>\n",
       "    <tr>\n",
       "      <th>0</th>\n",
       "      <td>A-Alimentary tract and metabolism</td>\n",
       "      <td>Australia</td>\n",
       "      <td>2010</td>\n",
       "      <td>145.8</td>\n",
       "    </tr>\n",
       "    <tr>\n",
       "      <th>1</th>\n",
       "      <td>A-Alimentary tract and metabolism</td>\n",
       "      <td>Australia</td>\n",
       "      <td>2011</td>\n",
       "      <td>151.5</td>\n",
       "    </tr>\n",
       "    <tr>\n",
       "      <th>2</th>\n",
       "      <td>A-Alimentary tract and metabolism</td>\n",
       "      <td>Australia</td>\n",
       "      <td>2012</td>\n",
       "      <td>153.5</td>\n",
       "    </tr>\n",
       "    <tr>\n",
       "      <th>3</th>\n",
       "      <td>A-Alimentary tract and metabolism</td>\n",
       "      <td>Australia</td>\n",
       "      <td>2013</td>\n",
       "      <td>150.0</td>\n",
       "    </tr>\n",
       "    <tr>\n",
       "      <th>4</th>\n",
       "      <td>A-Alimentary tract and metabolism</td>\n",
       "      <td>Australia</td>\n",
       "      <td>2014</td>\n",
       "      <td>151.9</td>\n",
       "    </tr>\n",
       "    <tr>\n",
       "      <th>...</th>\n",
       "      <td>...</td>\n",
       "      <td>...</td>\n",
       "      <td>...</td>\n",
       "      <td>...</td>\n",
       "    </tr>\n",
       "    <tr>\n",
       "      <th>67019</th>\n",
       "      <td>J01-Antibacterials for systemic use</td>\n",
       "      <td>Romania</td>\n",
       "      <td>2016</td>\n",
       "      <td>24.4</td>\n",
       "    </tr>\n",
       "    <tr>\n",
       "      <th>67020</th>\n",
       "      <td>J01-Antibacterials for systemic use</td>\n",
       "      <td>Romania</td>\n",
       "      <td>2017</td>\n",
       "      <td>24.5</td>\n",
       "    </tr>\n",
       "    <tr>\n",
       "      <th>67021</th>\n",
       "      <td>J01-Antibacterials for systemic use</td>\n",
       "      <td>Romania</td>\n",
       "      <td>2018</td>\n",
       "      <td>25.1</td>\n",
       "    </tr>\n",
       "    <tr>\n",
       "      <th>67022</th>\n",
       "      <td>J01-Antibacterials for systemic use</td>\n",
       "      <td>Romania</td>\n",
       "      <td>2019</td>\n",
       "      <td>25.8</td>\n",
       "    </tr>\n",
       "    <tr>\n",
       "      <th>67023</th>\n",
       "      <td>J01-Antibacterials for systemic use</td>\n",
       "      <td>Romania</td>\n",
       "      <td>2020</td>\n",
       "      <td>25.2</td>\n",
       "    </tr>\n",
       "  </tbody>\n",
       "</table>\n",
       "<p>67024 rows × 4 columns</p>\n",
       "</div>"
      ],
      "text/plain": [
       "                                  Variable    Country  Year  Value\n",
       "0        A-Alimentary tract and metabolism  Australia  2010  145.8\n",
       "1        A-Alimentary tract and metabolism  Australia  2011  151.5\n",
       "2        A-Alimentary tract and metabolism  Australia  2012  153.5\n",
       "3        A-Alimentary tract and metabolism  Australia  2013  150.0\n",
       "4        A-Alimentary tract and metabolism  Australia  2014  151.9\n",
       "...                                    ...        ...   ...    ...\n",
       "67019  J01-Antibacterials for systemic use    Romania  2016   24.4\n",
       "67020  J01-Antibacterials for systemic use    Romania  2017   24.5\n",
       "67021  J01-Antibacterials for systemic use    Romania  2018   25.1\n",
       "67022  J01-Antibacterials for systemic use    Romania  2019   25.8\n",
       "67023  J01-Antibacterials for systemic use    Romania  2020   25.2\n",
       "\n",
       "[67024 rows x 4 columns]"
      ]
     },
     "execution_count": 4,
     "metadata": {},
     "output_type": "execute_result"
    }
   ],
   "source": [
    "df = df.drop(['VAR','UNIT','Measure','COU','YEA','Flag Codes','Flags'],axis=1)\n",
    "df"
   ]
  },
  {
   "cell_type": "code",
   "execution_count": 5,
   "id": "133d5ddb",
   "metadata": {},
   "outputs": [
    {
     "data": {
      "text/plain": [
       "(67024, 4)"
      ]
     },
     "execution_count": 5,
     "metadata": {},
     "output_type": "execute_result"
    }
   ],
   "source": [
    "df.shape"
   ]
  },
  {
   "cell_type": "code",
   "execution_count": 6,
   "id": "d29d41a3",
   "metadata": {},
   "outputs": [
    {
     "data": {
      "text/html": [
       "<div>\n",
       "<style scoped>\n",
       "    .dataframe tbody tr th:only-of-type {\n",
       "        vertical-align: middle;\n",
       "    }\n",
       "\n",
       "    .dataframe tbody tr th {\n",
       "        vertical-align: top;\n",
       "    }\n",
       "\n",
       "    .dataframe thead th {\n",
       "        text-align: right;\n",
       "    }\n",
       "</style>\n",
       "<table border=\"1\" class=\"dataframe\">\n",
       "  <thead>\n",
       "    <tr style=\"text-align: right;\">\n",
       "      <th></th>\n",
       "      <th>Variable</th>\n",
       "      <th>Country</th>\n",
       "      <th>Year</th>\n",
       "      <th>Value</th>\n",
       "    </tr>\n",
       "  </thead>\n",
       "  <tbody>\n",
       "    <tr>\n",
       "      <th>0</th>\n",
       "      <td>A-Alimentary tract and metabolism</td>\n",
       "      <td>Australia</td>\n",
       "      <td>2010</td>\n",
       "      <td>145.8</td>\n",
       "    </tr>\n",
       "    <tr>\n",
       "      <th>1</th>\n",
       "      <td>A-Alimentary tract and metabolism</td>\n",
       "      <td>Australia</td>\n",
       "      <td>2011</td>\n",
       "      <td>151.5</td>\n",
       "    </tr>\n",
       "    <tr>\n",
       "      <th>2</th>\n",
       "      <td>A-Alimentary tract and metabolism</td>\n",
       "      <td>Australia</td>\n",
       "      <td>2012</td>\n",
       "      <td>153.5</td>\n",
       "    </tr>\n",
       "    <tr>\n",
       "      <th>3</th>\n",
       "      <td>A-Alimentary tract and metabolism</td>\n",
       "      <td>Australia</td>\n",
       "      <td>2013</td>\n",
       "      <td>150.0</td>\n",
       "    </tr>\n",
       "    <tr>\n",
       "      <th>4</th>\n",
       "      <td>A-Alimentary tract and metabolism</td>\n",
       "      <td>Australia</td>\n",
       "      <td>2014</td>\n",
       "      <td>151.9</td>\n",
       "    </tr>\n",
       "    <tr>\n",
       "      <th>5</th>\n",
       "      <td>A-Alimentary tract and metabolism</td>\n",
       "      <td>Australia</td>\n",
       "      <td>2015</td>\n",
       "      <td>151.3</td>\n",
       "    </tr>\n",
       "    <tr>\n",
       "      <th>6</th>\n",
       "      <td>A-Alimentary tract and metabolism</td>\n",
       "      <td>Australia</td>\n",
       "      <td>2016</td>\n",
       "      <td>149.5</td>\n",
       "    </tr>\n",
       "    <tr>\n",
       "      <th>7</th>\n",
       "      <td>A-Alimentary tract and metabolism</td>\n",
       "      <td>Australia</td>\n",
       "      <td>2017</td>\n",
       "      <td>149.3</td>\n",
       "    </tr>\n",
       "    <tr>\n",
       "      <th>8</th>\n",
       "      <td>A-Alimentary tract and metabolism</td>\n",
       "      <td>Australia</td>\n",
       "      <td>2018</td>\n",
       "      <td>150.8</td>\n",
       "    </tr>\n",
       "    <tr>\n",
       "      <th>9</th>\n",
       "      <td>A-Alimentary tract and metabolism</td>\n",
       "      <td>Australia</td>\n",
       "      <td>2019</td>\n",
       "      <td>144.2</td>\n",
       "    </tr>\n",
       "    <tr>\n",
       "      <th>10</th>\n",
       "      <td>A-Alimentary tract and metabolism</td>\n",
       "      <td>Australia</td>\n",
       "      <td>2020</td>\n",
       "      <td>139.2</td>\n",
       "    </tr>\n",
       "  </tbody>\n",
       "</table>\n",
       "</div>"
      ],
      "text/plain": [
       "                             Variable    Country  Year  Value\n",
       "0   A-Alimentary tract and metabolism  Australia  2010  145.8\n",
       "1   A-Alimentary tract and metabolism  Australia  2011  151.5\n",
       "2   A-Alimentary tract and metabolism  Australia  2012  153.5\n",
       "3   A-Alimentary tract and metabolism  Australia  2013  150.0\n",
       "4   A-Alimentary tract and metabolism  Australia  2014  151.9\n",
       "5   A-Alimentary tract and metabolism  Australia  2015  151.3\n",
       "6   A-Alimentary tract and metabolism  Australia  2016  149.5\n",
       "7   A-Alimentary tract and metabolism  Australia  2017  149.3\n",
       "8   A-Alimentary tract and metabolism  Australia  2018  150.8\n",
       "9   A-Alimentary tract and metabolism  Australia  2019  144.2\n",
       "10  A-Alimentary tract and metabolism  Australia  2020  139.2"
      ]
     },
     "execution_count": 6,
     "metadata": {},
     "output_type": "execute_result"
    }
   ],
   "source": [
    "df = df.head(11)\n",
    "df"
   ]
  },
  {
   "cell_type": "code",
   "execution_count": 7,
   "id": "7ba2e495",
   "metadata": {},
   "outputs": [
    {
     "data": {
      "image/png": "[encoded data removed]",
      "text/plain": [
       "<Figure size 432x288 with 1 Axes>"
      ]
     },
     "metadata": {
      "needs_background": "light"
     },
     "output_type": "display_data"
    }
   ],
   "source": [
    "plt.scatter(df['Year'],df['Value'])\n",
    "plt.xlabel('Year')\n",
    "plt.ylabel('Value')\n",
    "plt.title('Sales over Time \\n for A-Alimentary tract and metabolism in Australia')\n",
    "plt.show()"
   ]
  },
  {
   "cell_type": "markdown",
   "id": "05c60743",
   "metadata": {},
   "source": [
    "## LinearRegression"
   ]
  },
  {
   "cell_type": "code",
   "execution_count": 8,
   "id": "a5ae5ebb",
   "metadata": {},
   "outputs": [
    {
     "name": "stdout",
     "output_type": "stream",
     "text": [
      "Predicted sales for next year: 144.7763636363636\n"
     ]
    },
    {
     "data": {
      "image/png": "[encoded data removed]",
      "text/plain": [
       "<Figure size 432x288 with 1 Axes>"
      ]
     },
     "metadata": {
      "needs_background": "light"
     },
     "output_type": "display_data"
    }
   ],
   "source": [
    "import pandas as pd\n",
    "from sklearn.linear_model import LinearRegression\n",
    "\n",
    "# # Load the dataset\n",
    "data = pd.read_csv('medicine.csv')\n",
    "df = data.head(11) \n",
    "\n",
    "# Prepare the data\n",
    "X = df['Year'].values.reshape(-1, 1)\n",
    "y = df['Value'].values.reshape(-1, 1)\n",
    "\n",
    "# Create and fit the model\n",
    "model = LinearRegression()\n",
    "model.fit(X, y)\n",
    "\n",
    "# Predict the sales for next year\n",
    "next_year_sales = model.predict([[2021]])[0][0]\n",
    "\n",
    "print(f\"Predicted sales for next year: {next_year_sales}\")\n",
    "\n",
    "plt.scatter(X, y)\n",
    "plt.plot(X, model.predict(X), color='red')\n",
    "plt.xlabel('Year')\n",
    "plt.ylabel('Sales')\n",
    "plt.title('Sales over Time')\n",
    "plt.show()"
   ]
  },
  {
   "cell_type": "markdown",
   "id": "078af8c0",
   "metadata": {},
   "source": [
    "## PolynomialRegression"
   ]
  },
  {
   "cell_type": "code",
   "execution_count": 10,
   "id": "10e00541",
   "metadata": {},
   "outputs": [
    {
     "name": "stdout",
     "output_type": "stream",
     "text": [
      "Predicted sales for next year: 136.3975757570006\n"
     ]
    },
    {
     "data": {
      "image/png": "[encoded data removed]",
      "text/plain": [
       "<Figure size 432x288 with 1 Axes>"
      ]
     },
     "metadata": {
      "needs_background": "light"
     },
     "output_type": "display_data"
    }
   ],
   "source": [
    "import pandas as pd\n",
    "import numpy as np\n",
    "import matplotlib.pyplot as plt\n",
    "from sklearn.linear_model import LinearRegression\n",
    "from sklearn.preprocessing import PolynomialFeatures\n",
    "\n",
    "# # Load the dataset\n",
    "data = pd.read_csv('medicine.csv')\n",
    "df = data.head(11)\n",
    "\n",
    "# Prepare the data\n",
    "X = df['Year'].values.reshape(-1, 1)\n",
    "y = df['Value'].values.reshape(-1, 1)\n",
    "\n",
    "# Create polynomial features\n",
    "poly = PolynomialFeatures(degree=2)\n",
    "X_poly = poly.fit_transform(X)\n",
    "\n",
    "# Fit the polynomial regression model\n",
    "model = LinearRegression()\n",
    "model.fit(X_poly, y)\n",
    "\n",
    "# Predict the sales for next year\n",
    "next_year = np.array([[2021]])\n",
    "next_year_poly = poly.transform(next_year)\n",
    "next_year_sales = model.predict(next_year_poly)[0][0]\n",
    "print(f\"Predicted sales for next year: {next_year_sales}\")\n",
    "\n",
    "# Visualize the data and the best fit line\n",
    "plt.scatter(X, y, color='blue')\n",
    "plt.plot(X, model.predict(X_poly), color='red')\n",
    "plt.xlabel('Year')\n",
    "plt.ylabel('Sales')\n",
    "plt.title('Sales over Time')\n",
    "plt.show()\n"
   ]
  }
 ],
 "metadata": {
  "kernelspec": {
   "display_name": "Python 3 (ipykernel)",
   "language": "python",
   "name": "python3"
  },
  "language_info": {
   "codemirror_mode": {
    "name": "ipython",
    "version": 3
   },
   "file_extension": ".py",
   "mimetype": "text/x-python",
   "name": "python",
   "nbconvert_exporter": "python",
   "pygments_lexer": "ipython3",
   "version": "3.9.12"
  }
 },
 "nbformat": 4,
 "nbformat_minor": 5
}
