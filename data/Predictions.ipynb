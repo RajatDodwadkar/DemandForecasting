{
 "cells": [
  {
   "cell_type": "code",
   "execution_count": 2,
   "id": "c573a2ed",
   "metadata": {},
   "outputs": [],
   "source": [
    "variables = [\n",
    "    'A-Alimentary tract and metabolism',\n",
    "    'A02B-Drugs for peptic ulcer and gastro-oesophageal reflux diseases (GORD)',\n",
    "    'A10-Drugs used in diabetes',\n",
    "    'B-Blood and blood forming organs',\n",
    "    'C-Cardiovascular system',\n",
    "    'C01A-Cardiac glycosides',\n",
    "    'C01B-Antiarrhythmics, Class I and III',\n",
    "    'C02-Antihypertensives',\n",
    "    'C03-Diuretics',\n",
    "    'C07-Beta blocking agents',\n",
    "    'C08-Calcium channel blockers',\n",
    "    'C09-Agents acting on the Renin-Angiotensin system',\n",
    "    'C10-Lipid modifying agents',\n",
    "    'G-Genito urinary system and sex hormones',\n",
    "    'G03-Sex hormones and modulators of the genital system',\n",
    "    'H-Systemic hormonal preparations, excluding sex hormones and insulins',\n",
    "    'J-Antiinfectives for systemic use',\n",
    "    'J01-Antibacterials for systemic use',\n",
    "    'M-Musculo-skeletal system',\n",
    "    'M01A-Antiinflammatory and antirheumatic products non-steroids',\n",
    "    'N-Nervous system',\n",
    "    'N02-Analgesics',\n",
    "    'N05B-Anxiolytics',\n",
    "    'N05C-Hypnotics and sedatives',\n",
    "    'N06A-Antidepressants',\n",
    "    'R-Respiratory system',\n",
    "    'R03-Drugs for obstructive airway diseases'\n",
    "]"
   ]
  },
  {
   "cell_type": "code",
   "execution_count": 23,
   "id": "7232b83c",
   "metadata": {},
   "outputs": [],
   "source": [
    "import pandas as pd\n",
    "import numpy as np\n",
    "import matplotlib.pyplot as plt\n",
    "from sklearn.linear_model import LinearRegression\n",
    "from sklearn.preprocessing import PolynomialFeatures\n",
    "\n",
    "# # Load the dataset\n",
    "def predict(variable, country):\n",
    "    data = pd.read_csv('processed.csv')\n",
    "\n",
    "    df = data.loc[(data['Variable'] == variable) & (data['Country'] == country )]\n",
    "    \n",
    "    # Prepare the data\n",
    "    X = df['Year'].values.reshape(-1, 1)\n",
    "    y = df['Value'].values.reshape(-1, 1)\n",
    "\n",
    "    # Create polynomial features\n",
    "    poly = PolynomialFeatures(degree=2)\n",
    "    X_poly = poly.fit_transform(X)\n",
    "\n",
    "    # Fit the polynomial regression model\n",
    "    model = LinearRegression()\n",
    "    model.fit(X_poly, y)\n",
    "\n",
    "    # Predict the sales for next year\n",
    "    next_year = np.array([[2021]])\n",
    "    next_year_poly = poly.transform(next_year)\n",
    "    next_year_sales = model.predict(next_year_poly)[0][0]\n",
    "    print(f\"Predicted sales for next year: {next_year_sales}\")\n",
    "\n",
    "    # Visualize the data and the best fit line\n",
    "    plt.scatter(X, y, color='blue')\n",
    "    plt.plot(X, model.predict(X_poly), color='red')\n",
    "    plt.xlabel('Year')\n",
    "    plt.ylabel('Sales')\n",
    "    plt.title('Sales over Time')\n",
    "    plt.savefig(\"out/predict.png\")\n",
    "    # plt.show()\n",
    "    \n",
    "def get_countrys(variable):\n",
    "    new_data = pd.read_csv(\"processed.csv\")\n",
    "    df = new_data.loc[new_data['Variable'] == variable]\n",
    "    return list(df['Country'].unique())\n",
    "\n",
    "def get_variable_data():\n",
    "    mapper = {}\n",
    "    for i in variables:\n",
    "        mapper[i] = get_countrys(i)\n",
    "    return mapper"
   ]
  },
  {
   "cell_type": "code",
   "execution_count": 29,
   "id": "a70fb7cc",
   "metadata": {},
   "outputs": [
    {
     "name": "stdout",
     "output_type": "stream",
     "text": [
      "['A-Alimentary tract and metabolism', 'A02B-Drugs for peptic ulcer and gastro-oesophageal reflux diseases (GORD)', 'A10-Drugs used in diabetes', 'B-Blood and blood forming organs', 'C-Cardiovascular system', 'C01A-Cardiac glycosides', 'C01B-Antiarrhythmics, Class I and III', 'C02-Antihypertensives', 'C03-Diuretics', 'C07-Beta blocking agents', 'C08-Calcium channel blockers', 'C09-Agents acting on the Renin-Angiotensin system', 'C10-Lipid modifying agents', 'G-Genito urinary system and sex hormones', 'G03-Sex hormones and modulators of the genital system', 'H-Systemic hormonal preparations, excluding sex hormones and insulins', 'J-Antiinfectives for systemic use', 'J01-Antibacterials for systemic use', 'M-Musculo-skeletal system', 'M01A-Antiinflammatory and antirheumatic products non-steroids', 'N-Nervous system', 'N02-Analgesics', 'N05B-Anxiolytics', 'N05C-Hypnotics and sedatives', 'N06A-Antidepressants', 'R-Respiratory system', 'R03-Drugs for obstructive airway diseases']\n"
     ]
    }
   ],
   "source": [
    "data = pd.read_csv('processed.csv')\n",
    "country = 'Spain'\n",
    "var = 'A-Alimentary tract and metabolism'\n",
    "\n",
    "print(list(get_variable_data().keys()))\n",
    "\n",
    "# mp = {}\n",
    "# for i in variables:\n",
    "#     mp[i] = get_countrys(i)\n",
    "#     with open('temp.txt', 'a+') as f:\n",
    "#         f.write(\"\\n\")\n",
    "#         f.writelines(i + str(mp[i]))\n",
    "# for i in mp.items():\n",
    "#     print(i)\n",
    "# print(list(mp.keys()))"
   ]
  },
  {
   "cell_type": "code",
   "execution_count": null,
   "id": "aaeb75bf",
   "metadata": {},
   "outputs": [],
   "source": []
  }
 ],
 "metadata": {
  "kernelspec": {
   "display_name": "Python 3 (ipykernel)",
   "language": "python",
   "name": "python3"
  },
  "language_info": {
   "codemirror_mode": {
    "name": "ipython",
    "version": 3
   },
   "file_extension": ".py",
   "mimetype": "text/x-python",
   "name": "python",
   "nbconvert_exporter": "python",
   "pygments_lexer": "ipython3",
   "version": "3.9.12"
  }
 },
 "nbformat": 4,
 "nbformat_minor": 5
}
